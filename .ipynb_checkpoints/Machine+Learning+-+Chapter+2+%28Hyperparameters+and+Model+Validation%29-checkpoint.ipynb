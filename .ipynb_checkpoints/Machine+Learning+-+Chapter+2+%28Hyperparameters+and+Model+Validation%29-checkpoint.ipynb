{
 "cells": [
  {
   "cell_type": "markdown",
   "metadata": {},
   "source": [
    "# Introduction to Machine Learning in Python\n",
    "## Chapter 2 - Model Validation and Feature Engineering\n",
    "#### by Philipp Knoepfle\n",
    "##### Version 0.1 Date 19. October 2017\n",
    "\n",
    "## Summary:\n",
    "\n",
    "**Too long didn't read:** \n",
    "This Jupyter Notebook Series contains code examples and concept summaries of general Machine Learning algorithms following VanderPlas (2016) and Mueller & Guido (2017). You can use it either as a quick intro for statheads not familiar with Python or as a very comprehensive cheat sheet for your ML/ Data Science work. The course is structured as follows:\n",
    "\n",
    "\n",
    "**Syllabus:**\n",
    "\n",
    "1. Introduction (Scikit-Learn, basic conventions, Estimator API) \n",
    "2. Model Validation and Feature Engineering **(You are here!)**\n",
    "\n",
    "**Long Version:** \n",
    "This Jupyter Notebook is a short summary of the Machine Learning (ML) concepts applied in the Python Data Science Handbook (PDSH) by Jake VanderPlas. I will focus on the application of the various Machine Learning algorithms with scikit-learn as I understand the reader will already be familiar with the Statistics and vocabulary behind them. My background is in Statistics  \n",
    "I do however include short summaries of the various algorithms or rather concepts in order to reinforce the reader's existing knowledge on the subject. Further, sometimes it makes the code easier to understand. With respect to programming skills and library competencies you should have the following background if you want to fully appreciate this document.\n",
    "\n",
    "**Pre-requisites:** \n",
    "* Numpy (NP), Pandas (PD), Scipy (SP): Working with DataFrames, applying transformations, fancy/hierarchical indexing, etc. should not be a problem for you (intermediate)\n",
    "* Matplotlib (MPL): We may need the occasional plot in order to showcase an algorithm or result so knowledge of MPL (especially Seaborn) may be helpful but is *per se* not necessary. (beginner)\n",
    "* Scikit-Learn (SKL): None, because that is what we are going to learn!\n",
    "\n",
    "**Structure:** In case you want to follow along, this Jupyter Notebook will stick to the syllabus of the Python Data Science Handbook. Which I highly recommend you should. The book is excellent and worth every dollar, rupee, paisa, renminbi or euro! I am a poor student and around 40 bucks can be a lot however the return on investment was huge for me. I rather work through a book when it is taking up considerable space on my desk and not rotting as a PDF in a subfolder somewhere on my Desktop :).\n",
    "\n",
    "** Author's note:** This document was purely intended as a recap/notebook during my studies of the DSHB. It is neither meant to be a technical instruction nor to be a comprehensive manual for the Scikit-Learn package (which you can find [here](http://scikit-learn.org)). However because friends asked for it and found it helpful during their work as data scientist with little ML exposure, I re-worked it, made it somewhat publishable and made it public. This is still version 0.0 so if you have any suggestions or found a typo, feel free to drop me an email under knoepflephilipp@gmail.com). \n",
    "\n",
    "** Unpaid advertisements:** Check out my [github](https://github.com/Phildizzle) for more free resources on R and Python! If you want to talk to me about MOOCS, Data Science, Machine Learning, etc. feel free to add me on [Linkedin](https://www.linkedin.com/in/philipp-kn%C3%B6pfle-b1838112a/)!\n",
    "\n",
    "_Hint: I have included Too Long Didn't Read (TLDR) summaries for those who are mainly interested in the code wherever I found them to appropriate._"
   ]
  },
  {
   "cell_type": "markdown",
   "metadata": {},
   "source": [
    "### 2.1 General Model Validation\n",
    "\n",
    "There is considerable science behind choosing the right model and the respective hyperparemeters. In prindicple, model validation should be very simple. After choosing the model and its hyperparameters we can estimate how effective it is by applying it to some testing data and gauging the accuracy. How this is best done will be the subject of the next subchapers, in which we'll introduce state of the art model validation techniques.\n",
    "\n",
    "#### Holdout sets aka Train-Test Splitting\n",
    "As shown in chapter one, **the** standard approach in ML is to split your data set in two fractions, varying roughly from 50-80% training data to 50-20% test data. Note that another approach is to split the data set in a training, test, and validation set. The training data set serves here as the 'learning material' for your model, while its performance is evaluated only on the test set. The validation set is used to measure the final performance. No engineering on the model done is after the last step. \n",
    "\n",
    "The `train_test_split` function from the `model_selection` model is used to achieve the bi-fold separation of data sets. Compared to other programming languages *cough* R *cough* this makes things ridiculously easy.\n",
    "Again, we use the famours 'Iris' data set to showcase this:"
   ]
  },
  {
   "cell_type": "code",
   "execution_count": 17,
   "metadata": {
    "collapsed": false
   },
   "outputs": [
    {
     "data": {
      "text/plain": [
       "0.93103448275862066"
      ]
     },
     "execution_count": 17,
     "metadata": {},
     "output_type": "execute_result"
    }
   ],
   "source": [
    "from sklearn.datasets import load_iris\n",
    "iris = load_iris()\n",
    "X = iris.data\n",
    "y = iris.target\n",
    "\n",
    "from sklearn.neighbors import KNeighborsClassifier\n",
    "model = KNeighborsClassifier(n_neighbors = 1)\n",
    "\n",
    "from sklearn.model_selection import train_test_split\n",
    "# set seed to 0 and split training/test data set with ratio 1:1\n",
    "X1, X2, y1, y2 = train_test_split(X, y, random_state = 0, train_size = 5)\n",
    "model.fit(X1, y1)\n",
    "\n",
    "from sklearn.metrics import accuracy_score\n",
    "y2_model = model.predict(X2)\n",
    "accuracy_score(y2, y2_model)"
   ]
  },
  {
   "cell_type": "markdown",
   "metadata": {},
   "source": [
    "#### K-fold Cross Validation\n",
    "\n",
    "The obvious drawback with TT-splitting is that we cannot use the whole data set to train our model. Enter cross-validation! Basically we do a sequence of fits where each subset of the data is used both as a training and validation set. In this case 'K' refers to the number of cross-fold validations we perform, i.e. we split it in k different groups. "
   ]
  },
  {
   "cell_type": "code",
   "execution_count": 27,
   "metadata": {
    "collapsed": false
   },
   "outputs": [
    {
     "data": {
      "text/plain": [
       "array([ 0.96666667,  0.96666667,  0.93333333,  0.93333333,  1.        ])"
      ]
     },
     "execution_count": 27,
     "metadata": {},
     "output_type": "execute_result"
    }
   ],
   "source": [
    "from sklearn.model_selection import cross_val_score\n",
    "cross_val_score(model, X, y, cv = 5)"
   ]
  },
  {
   "cell_type": "markdown",
   "metadata": {},
   "source": [
    "#### Leave-one-out Cross Validation\n",
    "\n",
    "K-fold cross validation can be performed to the extreme where the number of folds equals the number of data points, i.e. leave-one-out cross validation. The `model_selection` model is our friend again."
   ]
  },
  {
   "cell_type": "code",
   "execution_count": 43,
   "metadata": {
    "collapsed": false
   },
   "outputs": [
    {
     "data": {
      "text/plain": [
       "0.95999999999999996"
      ]
     },
     "execution_count": 43,
     "metadata": {},
     "output_type": "execute_result"
    }
   ],
   "source": [
    "from sklearn.model_selection import LeaveOneOut\n",
    "# no need to specify the arguments to LeaveOneOut, the instantiation of this object is enough for cross_val_score \n",
    "# to recognize it the correct number of dimension\n",
    "loo = LeaveOneOut()\n",
    "scores = cross_val_score(model, X, y, cv = loo)\n",
    "scores.mean()"
   ]
  },
  {
   "cell_type": "markdown",
   "metadata": {},
   "source": [
    "#### Validation curves\n",
    "\n",
    "Validation curves are a pretty neat concept in Machine Learning. They ellucidate the relationship between model complexity, training score and validation score. You usually vary the model complexity (polynomials, regularization, etc.) and compute the training/test score with a scoring function of your choice ($R^{2}$, RMSE, etc.). Let us highlight this with a simple example, where we simulate some polynomial data _via_ pipeline and assess the model complexity."
   ]
  },
  {
   "cell_type": "code",
   "execution_count": 62,
   "metadata": {
    "collapsed": false
   },
   "outputs": [
    {
     "data": {
      "image/png": "[encoded data removed]",
      "text/plain": [
       "<matplotlib.figure.Figure at 0xbffff60>"
      ]
     },
     "metadata": {},
     "output_type": "display_data"
    }
   ],
   "source": [
    "from sklearn.preprocessing import PolynomialFeatures\n",
    "from sklearn.linear_model import LinearRegression\n",
    "from sklearn.pipeline import make_pipeline\n",
    "\n",
    "def PolynomialRegression(degree = 2, **kwargs):\n",
    "    # **kwargs allows you to handle named arguments that you have not defined in advance\n",
    "    return make_pipeline(PolynomialFeatures(degree), LinearRegression(**kwargs))\n",
    "\n",
    "# Simulate some data\n",
    "import numpy as np\n",
    "\n",
    "def make_data(N, err = 1.0, rseed = 1):\n",
    "    # randomly sample the data\n",
    "    rng = np.random.RandomState(rseed)\n",
    "    X = rng.rand(N, 1) ** 2\n",
    "    # ravel returns a flattened array\n",
    "    y = 10 - 1. / (X.ravel() + 0.1)\n",
    "    if err > 0:\n",
    "        y += err * rng.randn(N)\n",
    "    return X, y\n",
    "\n",
    "X, y = make_data(40)\n",
    "\n",
    "# Visualize the data first\n",
    "import matplotlib.pyplot as plt\n",
    "import seaborn; seaborn.set() # formatting\n",
    "% matplotlib inline\n",
    "\n",
    "X_test = np.linspace(-0.1, 1.1, 500)[:, None]\n",
    "\n",
    "plt.scatter(X.ravel(), y, color = 'black')\n",
    "axis = plt.axis()\n",
    "for degree in [1, 3, 5]:\n",
    "    y_test = PolynomialRegression(degree).fit(X, y).predict(X_test)\n",
    "    plt.plot(X_test.ravel(), y_test, label = 'degree = {0}'.format(degree))\n",
    "plt.xlim(-0.1, 1.0)\n",
    "plt.ylim(-1, 12)\n",
    "plt.legend(loc = 'best');"
   ]
  },
  {
   "cell_type": "code",
   "execution_count": 88,
   "metadata": {
    "collapsed": false
   },
   "outputs": [
    {
     "data": {
      "text/plain": [
       "<matplotlib.text.Text at 0xc9ddda0>"
      ]
     },
     "execution_count": 88,
     "metadata": {},
     "output_type": "execute_result"
    },
    {
     "data": {
      "image/png": "[encoded data removed]",
      "text/plain": [
       "<matplotlib.figure.Figure at 0xc913a90>"
      ]
     },
     "metadata": {},
     "output_type": "display_data"
    }
   ],
   "source": [
    "from sklearn.model_selection import validation_curve\n",
    "\n",
    "degree = np.arange(0, 21)\n",
    "train_score, val_score = validation_curve(PolynomialRegression(), X, y, 'polynomialfeatures__degree', degree, cv = 7)\n",
    "plt.plot(degree, np.median(train_score, 1), color = 'blue', label = ' training score')\n",
    "plt.plot(degree, np.median(val_score, 1), color = 'red', label = 'validation score')\n",
    "plt.legend(loc = 'best')\n",
    "plt.ylim(0, 1)\n",
    "plt.xlabel('degree')\n",
    "plt.ylabel('score')"
   ]
  },
  {
   "cell_type": "markdown",
   "metadata": {},
   "source": [
    "#### Learning Curves\n",
    "\n",
    "Learning curves are graphs that compares the performance of a model on training and testing data over a varying number of training instances, i.e. they show model performance as a function of data set size. Generally we should see performance improve as the number of training points increases. First we are going to \"hard code\" a learning curve and after that we show the respective SKL function. For example, let us generate a new larger data set:"
   ]
  },
  {
   "cell_type": "code",
   "execution_count": 93,
   "metadata": {
    "collapsed": false
   },
   "outputs": [
    {
     "data": {
      "image/png": "[encoded data removed]",
      "text/plain": [
       "<matplotlib.figure.Figure at 0xc970048>"
      ]
     },
     "metadata": {},
     "output_type": "display_data"
    }
   ],
   "source": [
    "X2, y2 = make_data(200)\n",
    "plt.scatter(X2.ravel(), y2, color = 'purple');"
   ]
  },
  {
   "cell_type": "code",
   "execution_count": 105,
   "metadata": {
    "collapsed": false
   },
   "outputs": [
    {
     "data": {
      "text/plain": [
       "(0, 1)"
      ]
     },
     "execution_count": 105,
     "metadata": {},
     "output_type": "execute_result"
    },
    {
     "data": {
      "image/png": "[encoded data removed]",
      "text/plain": [
       "<matplotlib.figure.Figure at 0xbfc1c18>"
      ]
     },
     "metadata": {},
     "output_type": "display_data"
    }
   ],
   "source": [
    "# Let's duplicate the preceeding code to plot the validation curve for this data set and overlay all four curves.\n",
    "degree = np.arange(21)\n",
    "train_score2, val_score2 = validation_curve(PolynomialRegression(), X2, y2, 'polynomialfeatures__degree', degree, cv = 7)\n",
    "plt.plot(degree, np.median(train_score2, 1), color = 'blue', label = 'training score')\n",
    "plt.plot(degree, np.median(val_score2, 1), color = 'red', label = 'test score')\n",
    "plt.plot(degree, np.median(train_score, 1), color = 'blue', alpha = 0.3, linestyle = 'dashed')\n",
    "plt.plot(degree, np.median(val_score, 1), color = 'red', alpha = 0.3, linestyle = 'dashed')\n",
    "plt.legend(loc = 'lower center')\n",
    "plt.ylim(0, 1)"
   ]
  },
  {
   "cell_type": "markdown",
   "metadata": {},
   "source": [
    "The solid lines show the new result, whereas the dashed ones show train_score & val_score of the first model. The larger data set can obviously handle a more complex model which is what we would expect. Therefore, learning curves have two important input parameters: number of training points and model complexity.\n",
    "Other things we would expect from learning curves:\n",
    "* A model of a given complexity will **overfit** the data set, if we observe a high training score and low validation score.\n",
    "* A model of a given complexity will **underfit** the data set, if the training score will decrease but the test score will increase.\n",
    "* A model will never, except by change, give a better validation score than the training one. Test and training score curve should never cross.\n",
    "\n",
    "Learning curves can also be computed more easily with the `learning curve` module. Now we only have to write one line of code to get the learning curve values."
   ]
  },
  {
   "cell_type": "code",
   "execution_count": 113,
   "metadata": {
    "collapsed": false
   },
   "outputs": [
    {
     "data": {
      "image/png": "[encoded data removed]",
      "text/plain": [
       "<matplotlib.figure.Figure at 0xc932240>"
      ]
     },
     "metadata": {},
     "output_type": "display_data"
    }
   ],
   "source": [
    "from sklearn.learning_curve import learning_curve\n",
    "\n",
    "fig, ax = plt.subplots(1, 2, figsize = (16, 6))\n",
    "fig.subplots_adjust(left = 0.0625, right = 0.95, wspace = 0.1)\n",
    "\n",
    "\n",
    "for i, degree in enumerate([2, 9]):\n",
    "    N, train_lc, val_lc = learning_curve(PolynomialRegression(degree), X, y, cv = 7, train_sizes = np.linspace(0.3, 1, 25))\n",
    "    ax[i].plot(N, np.mean(train_lc, 1), color = 'blue' , label = 'training score')\n",
    "    ax[i].plot(N, np.mean(val_lc, 1), color = 'red' , label = 'test score')\n",
    "    ax[i].hlines(np.mean([train_lc[-1], val_lc[-1]]), N[0], N[-1], color = 'gray', linestyle = 'dashed')\n",
    "    ax[i].set_ylim(0, 1)\n",
    "    ax[i].set_xlim(N[0], N[-1])\n",
    "    ax[i].set_xlabel('training size')\n",
    "    ax[i].set_ylabel('score')\n",
    "    ax[i].set_title('degree = {0}'.format(degree), size = 14)\n",
    "    ax[i].legend(loc = 'best')"
   ]
  },
  {
   "cell_type": "markdown",
   "metadata": {},
   "source": [
    "#### Grid Search\n",
    "Validation and learning curves are important tools. They are used best when there are 'less knobs to turn' in your model. In general, models are complex and have many input parameters which have an effect on model performance. In these cases, tools such as visualizations are difficult and we would rather simply find the particular model that maximizes the validation score. Enter grid search!\n",
    "\n",
    "Scikit-Learn provides automated tools to do this in the `grid_search`module. Here is an example of using grid search to find the optimal polynomial model. We will explore a three-dimensional grid of model features: Polynomial degree, flag whether to include an intercept, flag whether to normalize the problem. We can do this setting up SKL's `GridSearchCV` meta-estimator from the `model_selection` module."
   ]
  },
  {
   "cell_type": "code",
   "execution_count": 124,
   "metadata": {
    "collapsed": false
   },
   "outputs": [],
   "source": [
    "from sklearn.model_selection import GridSearchCV\n",
    "\n",
    "param_grid = {'polynomialfeatures__degree': np.arange(21),\n",
    "             'linearregression__fit_intercept': [True, False], \n",
    "             'linearregression__normalize': [True, False]}\n",
    "grid = GridSearchCV(PolynomialRegression(), param_grid, cv = 7)"
   ]
  },
  {
   "cell_type": "markdown",
   "metadata": {},
   "source": [
    "Notice that like a normal estimator, this has not yet been applied to any data. Calling the `fit()` method will fit the model at each grid point, keeping track of scores along the way. Fit the model:"
   ]
  },
  {
   "cell_type": "code",
   "execution_count": 120,
   "metadata": {
    "collapsed": false
   },
   "outputs": [
    {
     "data": {
      "text/plain": [
       "{'linearregression__fit_intercept': False,\n",
       " 'linearregression__normalize': True,\n",
       " 'polynomialfeatures__degree': 4}"
      ]
     },
     "execution_count": 120,
     "metadata": {},
     "output_type": "execute_result"
    }
   ],
   "source": [
    "grid.fit(X, y)\n",
    "# the best_params_ attribute contains the optimal grid value\n",
    "grid.best_params_"
   ]
  },
  {
   "cell_type": "markdown",
   "metadata": {},
   "source": [
    "Finally we can use the best model and show the fit too our data using code from before:"
   ]
  },
  {
   "cell_type": "code",
   "execution_count": 123,
   "metadata": {
    "collapsed": false
   },
   "outputs": [
    {
     "data": {
      "text/plain": [
       "(-0.058375912843486651,\n",
       " 0.99590640493969607,\n",
       " -0.74852374550399747,\n",
       " 10.92057542617113)"
      ]
     },
     "execution_count": 123,
     "metadata": {},
     "output_type": "execute_result"
    },
    {
     "data": {
      "image/png": "[encoded data removed]",
      "text/plain": [
       "<matplotlib.figure.Figure at 0xc1fe160>"
      ]
     },
     "metadata": {},
     "output_type": "display_data"
    }
   ],
   "source": [
    "model = grid.best_estimator_\n",
    "\n",
    "plt.scatter(X.ravel(), y)\n",
    "lim = plt.axis()\n",
    "y_test = model.fit(X, y).predict(X_test)\n",
    "plt.plot(X_test.ravel(), y_test)\n",
    "plt.axis(lim)"
   ]
  },
  {
   "cell_type": "markdown",
   "metadata": {},
   "source": [
    "### 2.2 Evaluation for Classification\n",
    "\n",
    "The methods discussed above can be used for regression or classification algorithms. The main goal of ML regression algorithms is the minimization of some sort of error function. Since their optimization involves some sort of maximum-likelihood function or evaluation metric, they can easily be scored by some sort of error function of your choice.\n",
    "\n",
    "This is not true for classification problems. Their performance is in a sense more complicated to assess as the category distribution may influence the learning algorithm significantly and further classification process into discrete categories need a more elaborated evaluation approach. That is, some errors the algorithm makes while classifying can be worse than others. This section will highlight some - but not all - non-Bayesian methods to remedy this problem. (The evaluation of classification is a vast field, just Google it and have fun!)\n",
    "\n",
    "Let's create some data and show why 'accuracy' may not always be the best evaluation metric for the binary case."
   ]
  },
  {
   "cell_type": "code",
   "execution_count": 4,
   "metadata": {
    "collapsed": false
   },
   "outputs": [
    {
     "name": "stdout",
     "output_type": "stream",
     "text": [
      "0 178\n",
      "1 182\n",
      "2 177\n",
      "3 183\n",
      "4 181\n",
      "5 182\n",
      "6 181\n",
      "7 179\n",
      "8 174\n",
      "9 180\n",
      "Original labels:\t [1 2 3 4 5 6 7 8 9 0 1 2 3 4 5 6 7 8 9 0 1 2 3 4 5 6 7 8 9]\n",
      "New binary labels:\t [1 0 0 0 0 0 0 0 0 0 1 0 0 0 0 0 0 0 0 0 1 0 0 0 0 0 0 0 0]\n"
     ]
    },
    {
     "data": {
      "text/plain": [
       "0.90888888888888886"
      ]
     },
     "execution_count": 4,
     "metadata": {},
     "output_type": "execute_result"
    }
   ],
   "source": [
    "%matplotlib notebook\n",
    "import numpy as np\n",
    "import pandas as pd\n",
    "import seaborn as sns\n",
    "import matplotlib.pyplot as plt\n",
    "from sklearn.model_selection import train_test_split\n",
    "from sklearn.datasets import load_digits\n",
    "\n",
    "dataset = load_digits()\n",
    "X, y = dataset.data, dataset.target\n",
    "\n",
    "for class_name, class_count in zip(dataset.target_names, np.bincount(dataset.target)):\n",
    "    print(class_name,class_count)\n",
    "\n",
    "# Create a dataset with imbalanced binary classes:  \n",
    "# Negative class (0) is 'not 1' \n",
    "# Positive class (1) is '1'\n",
    "y_binary_imbalanced = y.copy()\n",
    "y_binary_imbalanced[y_binary_imbalanced != 1] = 0\n",
    "\n",
    "print('Original labels:\\t', y[1:30])\n",
    "print('New binary labels:\\t', y_binary_imbalanced[1:30])\n",
    "\n",
    "np.bincount(y_binary_imbalanced)    # Negative class (0) is the most frequent class\n",
    "\n",
    "X_train, X_test, y_train, y_test = train_test_split(X, y_binary_imbalanced, random_state=0)\n",
    "\n",
    "# Accuracy of Support Vector Machine classifier\n",
    "from sklearn.svm import SVC\n",
    "\n",
    "svm = SVC(kernel='rbf', C=1).fit(X_train, y_train)\n",
    "svm.score(X_test, y_test)"
   ]
  },
  {
   "cell_type": "markdown",
   "metadata": {},
   "source": [
    "#### Dummy Classifier\n",
    "\n",
    "Okay, so the accuracy is around 0.91 that should not be bad right? SVMs are a complicated algorithm though, can we maybe find a classifier which is less complicated? Maybe we can always predict that the digit is '0' since this is the most frequent class in our data set. This is also called a dummy classifier."
   ]
  },
  {
   "cell_type": "code",
   "execution_count": 6,
   "metadata": {
    "collapsed": false
   },
   "outputs": [
    {
     "data": {
      "text/plain": [
       "0.9044444444444445"
      ]
     },
     "execution_count": 6,
     "metadata": {},
     "output_type": "execute_result"
    }
   ],
   "source": [
    "from sklearn.dummy import DummyClassifier\n",
    "\n",
    "# Negative class (0) is most frequent\n",
    "dummy_majority = DummyClassifier(strategy = 'most_frequent').fit(X_train, y_train)\n",
    "# Therefore the dummy 'most_frequent' classifier always predicts class 0\n",
    "y_dummy_predictions = dummy_majority.predict(X_test)\n",
    "y_dummy_predictions\n",
    "\n",
    "dummy_majority.score(X_test, y_test)"
   ]
  },
  {
   "cell_type": "markdown",
   "metadata": {},
   "source": [
    "Wow, that looks great, our classifier has an accuracy of 90.5% almost as good as the SVM model! We still made some mistakes though, we can use confusion matrices to find out which fraction of the data set we predicted correctly and which we did not. In particular, we can look at 'False positives' (falsely predicting the clasification to be positive even though it is negative) and 'False Negatives' (falsely predicting the clasification to be negative even though it is positive). Let us look at this \n",
    "\n",
    "#### Binary confusion matrix"
   ]
  },
  {
   "cell_type": "code",
   "execution_count": 7,
   "metadata": {
    "collapsed": false
   },
   "outputs": [
    {
     "name": "stdout",
     "output_type": "stream",
     "text": [
      "Most frequent class (dummy classifier)\n",
      " [[407   0]\n",
      " [ 43   0]]\n"
     ]
    }
   ],
   "source": [
    "from sklearn.metrics import confusion_matrix\n",
    "\n",
    "# Negative class (0) is most frequent\n",
    "dummy_majority = DummyClassifier(strategy = 'most_frequent').fit(X_train, y_train)\n",
    "y_majority_predicted = dummy_majority.predict(X_test)\n",
    "confusion = confusion_matrix(y_test, y_majority_predicted)\n",
    "\n",
    "print('Most frequent class (dummy classifier)\\n', confusion)\n",
    "# columns go (Predicted 0, Predicted 1)\n",
    "# rows go (Is 0, Is not 0)"
   ]
  },
  {
   "cell_type": "markdown",
   "metadata": {},
   "source": [
    "That makes sense doesn't it? We always predicct the value to be '0', so we never get a false negative, i.e. we predict '1' even though it is '0'. That algorithm is a no-brainer though, why start learning ML if we can predict one value all the time. Let's look at confusion matrixes for other algorithms:"
   ]
  },
  {
   "cell_type": "code",
   "execution_count": 8,
   "metadata": {
    "collapsed": false
   },
   "outputs": [
    {
     "name": "stdout",
     "output_type": "stream",
     "text": [
      "Random class-proportional prediction (dummy classifier)\n",
      " [[365  42]\n",
      " [ 40   3]]\n"
     ]
    }
   ],
   "source": [
    "# produces random predictions w/ same class proportion as training set\n",
    "dummy_classprop = DummyClassifier(strategy='stratified').fit(X_train, y_train)\n",
    "y_classprop_predicted = dummy_classprop.predict(X_test)\n",
    "confusion = confusion_matrix(y_test, y_classprop_predicted)\n",
    "\n",
    "print('Random class-proportional prediction (dummy classifier)\\n', confusion)"
   ]
  },
  {
   "cell_type": "code",
   "execution_count": 9,
   "metadata": {
    "collapsed": false
   },
   "outputs": [
    {
     "name": "stdout",
     "output_type": "stream",
     "text": [
      "Support vector machine classifier (linear kernel, C=1)\n",
      " [[402   5]\n",
      " [  5  38]]\n"
     ]
    }
   ],
   "source": [
    "svm = SVC(kernel='linear', C=1).fit(X_train, y_train)\n",
    "svm_predicted = svm.predict(X_test)\n",
    "confusion = confusion_matrix(y_test, svm_predicted)\n",
    "\n",
    "print('Support vector machine classifier (linear kernel, C=1)\\n', confusion)"
   ]
  },
  {
   "cell_type": "code",
   "execution_count": 10,
   "metadata": {
    "collapsed": false
   },
   "outputs": [
    {
     "name": "stdout",
     "output_type": "stream",
     "text": [
      "Logistic regression classifier (default settings)\n",
      " [[401   6]\n",
      " [  6  37]]\n"
     ]
    }
   ],
   "source": [
    "from sklearn.linear_model import LogisticRegression\n",
    "\n",
    "lr = LogisticRegression().fit(X_train, y_train)\n",
    "lr_predicted = lr.predict(X_test)\n",
    "confusion = confusion_matrix(y_test, lr_predicted)\n",
    "\n",
    "print('Logistic regression classifier (default settings)\\n', confusion)"
   ]
  },
  {
   "cell_type": "code",
   "execution_count": 11,
   "metadata": {
    "collapsed": false
   },
   "outputs": [
    {
     "name": "stdout",
     "output_type": "stream",
     "text": [
      "Decision tree classifier (max_depth = 2)\n",
      " [[400   7]\n",
      " [ 17  26]]\n"
     ]
    }
   ],
   "source": [
    "from sklearn.tree import DecisionTreeClassifier\n",
    "\n",
    "dt = DecisionTreeClassifier(max_depth=2).fit(X_train, y_train)\n",
    "tree_predicted = dt.predict(X_test)\n",
    "confusion = confusion_matrix(y_test, tree_predicted)\n",
    "\n",
    "print('Decision tree classifier (max_depth = 2)\\n', confusion)"
   ]
  },
  {
   "cell_type": "markdown",
   "metadata": {},
   "source": [
    "Different algorithms different confusion matrixes right? Imagine that predicting a '1' even though the value is '0' would be a grave mistake, since that could mean that we make a huge loss in the real world. Can we somehow control for that? Sure! Someone has already figured that out years ago and formulized it in statistical theory! Statistics is just the best, isn't it? These evaluation metrics can be easily used to adequatly train your algorithms to weigh certain mistakes more or less. \n",
    "\n",
    "We need to first define certain parameters before to make the distinction more clear:\n",
    "\n",
    "* **True Positive** = # of all correctly identified positives in our sample\n",
    "* **True Negative** = # of all correctly identified negatives in our sample\n",
    "* **False positives** = # of all falsely identified positives in our sample\n",
    "* **False negatives** = # of all falsely identified negatives in our sample\n",
    "\n",
    "The following four metrics are the most common for binary classification:\n",
    "\n",
    "* **Accuracy** = (TP + TN) / (TP + TN + FP + FN)\n",
    "* **Precision** = TP / (TP + FP)\n",
    "* **Recall** = TP / (TP + FN)  Also known as sensitivity, or True Positive Rate\n",
    "* **F1** = 2 x Precision x Recall / (Precision + Recall) \n",
    "\n",
    "Accuracy describes pretty intuitively the general ability of our algorithm to identify the correct labels. Precision on the other hand is used to describe the fraction of relevant identifications among all positive (relevant) labels. Recall aka Sensitivity (for the statisticians in the audience) is used to denote the fraction of positive (relevant) cases out of all relevant instances. In case both values are important to you, the F1-score can handle trade-offs between both.\n",
    "\n",
    "The wikipedia page on this is really good if this introduction was too short for you (https://en.wikipedia.org/wiki/Precision_and_recall). Alternatively, this Quora post is also really good and uses more real-life girlfriend-boyfriend examples (https://www.quora.com/What-is-the-best-way-to-understand-the-terms-precision-and-recall).\n",
    "The `metrics` model in SKL has nice functions to easily compute those so don't worry about remembering the formula"
   ]
  },
  {
   "cell_type": "code",
   "execution_count": 12,
   "metadata": {
    "collapsed": false
   },
   "outputs": [
    {
     "name": "stdout",
     "output_type": "stream",
     "text": [
      "Accuracy: 0.95\n",
      "Precision: 0.79\n",
      "Recall: 0.60\n",
      "F1: 0.68\n"
     ]
    }
   ],
   "source": [
    "from sklearn.metrics import accuracy_score, precision_score, recall_score, f1_score\n",
    "\n",
    "print('Accuracy: {:.2f}'.format(accuracy_score(y_test, tree_predicted)))\n",
    "print('Precision: {:.2f}'.format(precision_score(y_test, tree_predicted)))\n",
    "print('Recall: {:.2f}'.format(recall_score(y_test, tree_predicted)))\n",
    "print('F1: {:.2f}'.format(f1_score(y_test, tree_predicted)))"
   ]
  },
  {
   "cell_type": "code",
   "execution_count": 13,
   "metadata": {
    "collapsed": false
   },
   "outputs": [
    {
     "name": "stdout",
     "output_type": "stream",
     "text": [
      "             precision    recall  f1-score   support\n",
      "\n",
      "      not 1       0.96      0.98      0.97       407\n",
      "          1       0.79      0.60      0.68        43\n",
      "\n",
      "avg / total       0.94      0.95      0.94       450\n",
      "\n"
     ]
    }
   ],
   "source": [
    "# The 'classification_report' function can be your friend and \n",
    "# compute all 4 test scores at once.\n",
    "\n",
    "# Combined report with all above metrics\n",
    "from sklearn.metrics import classification_report\n",
    "\n",
    "print(classification_report(y_test, tree_predicted, target_names=['not 1', '1']))"
   ]
  },
  {
   "cell_type": "markdown",
   "metadata": {
    "collapsed": false
   },
   "source": [
    "Work in Progress. [TBC]"
   ]
  },
  {
   "cell_type": "code",
   "execution_count": null,
   "metadata": {
    "collapsed": true
   },
   "outputs": [],
   "source": []
  },
  {
   "cell_type": "code",
   "execution_count": null,
   "metadata": {
    "collapsed": true
   },
   "outputs": [],
   "source": []
  },
  {
   "cell_type": "code",
   "execution_count": null,
   "metadata": {
    "collapsed": true
   },
   "outputs": [],
   "source": []
  },
  {
   "cell_type": "code",
   "execution_count": null,
   "metadata": {
    "collapsed": true
   },
   "outputs": [],
   "source": []
  },
  {
   "cell_type": "code",
   "execution_count": null,
   "metadata": {
    "collapsed": true
   },
   "outputs": [],
   "source": []
  },
  {
   "cell_type": "code",
   "execution_count": null,
   "metadata": {
    "collapsed": true
   },
   "outputs": [],
   "source": []
  },
  {
   "cell_type": "code",
   "execution_count": null,
   "metadata": {
    "collapsed": true
   },
   "outputs": [],
   "source": []
  },
  {
   "cell_type": "code",
   "execution_count": null,
   "metadata": {
    "collapsed": true
   },
   "outputs": [],
   "source": []
  },
  {
   "cell_type": "code",
   "execution_count": null,
   "metadata": {
    "collapsed": true
   },
   "outputs": [],
   "source": []
  }
 ],
 "metadata": {
  "kernelspec": {
   "display_name": "Python 3",
   "language": "python",
   "name": "python3"
  },
  "language_info": {
   "codemirror_mode": {
    "name": "ipython",
    "version": 3
   },
   "file_extension": ".py",
   "mimetype": "text/x-python",
   "name": "python",
   "nbconvert_exporter": "python",
   "pygments_lexer": "ipython3",
   "version": "3.6.0"
  }
 },
 "nbformat": 4,
 "nbformat_minor": 2
}
